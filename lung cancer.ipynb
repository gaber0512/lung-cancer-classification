{
 "cells": [
  {
   "cell_type": "markdown",
   "id": "6a0de138",
   "metadata": {},
   "source": [
    "# `The Dataset Source : `\n",
    "\n",
    "### https://www.kaggle.com/datasets/mysarahmadbhat/lung-cancer"
   ]
  },
  {
   "cell_type": "code",
   "execution_count": 39,
   "id": "9e988553",
   "metadata": {},
   "outputs": [],
   "source": [
    "import pandas as pd\n",
    "import numpy as np\n",
    "import missingno as msno\n",
    "import matplotlib.pyplot as plt\n",
    "%matplotlib inline\n",
    "import seaborn as sns\n",
    "\n",
    "## Preprocessing\n",
    "from sklearn.model_selection import train_test_split\n",
    "\n",
    "from sklearn.preprocessing import StandardScaler ,MinMaxScaler,LabelEncoder,OneHotEncoder\n",
    "from sklearn.impute import SimpleImputer\n",
    "from sklearn.pipeline import Pipeline,FeatureUnion\n",
    "from sklearn_features.transformers import DataFrameSelector\n",
    "from sklearn.compose import ColumnTransformer\n",
    "from sklearn.model_selection import cross_val_score, cross_val_predict\n",
    "\n",
    "## Algorithms\n",
    "from sklearn.tree import DecisionTreeClassifier\n",
    "from sklearn.neighbors import KNeighborsClassifier\n",
    "from sklearn.linear_model import LogisticRegression\n",
    "from sklearn.svm import SVC\n",
    "\n",
    "## Ensemble Models (There is for Classification and Regression)\n",
    "from sklearn.ensemble import VotingClassifier                                           ## One for each task\n",
    "from sklearn.ensemble import BaggingClassifier                                          ## One for each task\n",
    "from sklearn.ensemble import RandomForestClassifier                                     ## one for each task\n",
    "from sklearn.ensemble import AdaBoostClassifier                                         ## one for each task\n",
    "\n",
    "#metrics\n",
    "from sklearn.metrics import accuracy_score, precision_score, recall_score, f1_score\n",
    "from sklearn.metrics import classification_report, confusion_matrix"
   ]
  },
  {
   "cell_type": "markdown",
   "id": "8d7e675e",
   "metadata": {},
   "source": [
    "# `Reading data :`"
   ]
  },
  {
   "cell_type": "code",
   "execution_count": 2,
   "id": "b10ff9f5",
   "metadata": {},
   "outputs": [
    {
     "data": {
      "text/html": [
       "<div>\n",
       "<style scoped>\n",
       "    .dataframe tbody tr th:only-of-type {\n",
       "        vertical-align: middle;\n",
       "    }\n",
       "\n",
       "    .dataframe tbody tr th {\n",
       "        vertical-align: top;\n",
       "    }\n",
       "\n",
       "    .dataframe thead th {\n",
       "        text-align: right;\n",
       "    }\n",
       "</style>\n",
       "<table border=\"1\" class=\"dataframe\">\n",
       "  <thead>\n",
       "    <tr style=\"text-align: right;\">\n",
       "      <th></th>\n",
       "      <th>GENDER</th>\n",
       "      <th>AGE</th>\n",
       "      <th>SMOKING</th>\n",
       "      <th>YELLOW_FINGERS</th>\n",
       "      <th>ANXIETY</th>\n",
       "      <th>PEER_PRESSURE</th>\n",
       "      <th>CHRONIC DISEASE</th>\n",
       "      <th>FATIGUE</th>\n",
       "      <th>ALLERGY</th>\n",
       "      <th>WHEEZING</th>\n",
       "      <th>ALCOHOL CONSUMING</th>\n",
       "      <th>COUGHING</th>\n",
       "      <th>SHORTNESS OF BREATH</th>\n",
       "      <th>SWALLOWING DIFFICULTY</th>\n",
       "      <th>CHEST PAIN</th>\n",
       "      <th>LUNG_CANCER</th>\n",
       "    </tr>\n",
       "  </thead>\n",
       "  <tbody>\n",
       "    <tr>\n",
       "      <th>0</th>\n",
       "      <td>M</td>\n",
       "      <td>69</td>\n",
       "      <td>1</td>\n",
       "      <td>2</td>\n",
       "      <td>2</td>\n",
       "      <td>1</td>\n",
       "      <td>1</td>\n",
       "      <td>2</td>\n",
       "      <td>1</td>\n",
       "      <td>2</td>\n",
       "      <td>2</td>\n",
       "      <td>2</td>\n",
       "      <td>2</td>\n",
       "      <td>2</td>\n",
       "      <td>2</td>\n",
       "      <td>YES</td>\n",
       "    </tr>\n",
       "    <tr>\n",
       "      <th>1</th>\n",
       "      <td>M</td>\n",
       "      <td>74</td>\n",
       "      <td>2</td>\n",
       "      <td>1</td>\n",
       "      <td>1</td>\n",
       "      <td>1</td>\n",
       "      <td>2</td>\n",
       "      <td>2</td>\n",
       "      <td>2</td>\n",
       "      <td>1</td>\n",
       "      <td>1</td>\n",
       "      <td>1</td>\n",
       "      <td>2</td>\n",
       "      <td>2</td>\n",
       "      <td>2</td>\n",
       "      <td>YES</td>\n",
       "    </tr>\n",
       "    <tr>\n",
       "      <th>2</th>\n",
       "      <td>F</td>\n",
       "      <td>59</td>\n",
       "      <td>1</td>\n",
       "      <td>1</td>\n",
       "      <td>1</td>\n",
       "      <td>2</td>\n",
       "      <td>1</td>\n",
       "      <td>2</td>\n",
       "      <td>1</td>\n",
       "      <td>2</td>\n",
       "      <td>1</td>\n",
       "      <td>2</td>\n",
       "      <td>2</td>\n",
       "      <td>1</td>\n",
       "      <td>2</td>\n",
       "      <td>NO</td>\n",
       "    </tr>\n",
       "    <tr>\n",
       "      <th>3</th>\n",
       "      <td>M</td>\n",
       "      <td>63</td>\n",
       "      <td>2</td>\n",
       "      <td>2</td>\n",
       "      <td>2</td>\n",
       "      <td>1</td>\n",
       "      <td>1</td>\n",
       "      <td>1</td>\n",
       "      <td>1</td>\n",
       "      <td>1</td>\n",
       "      <td>2</td>\n",
       "      <td>1</td>\n",
       "      <td>1</td>\n",
       "      <td>2</td>\n",
       "      <td>2</td>\n",
       "      <td>NO</td>\n",
       "    </tr>\n",
       "    <tr>\n",
       "      <th>4</th>\n",
       "      <td>F</td>\n",
       "      <td>63</td>\n",
       "      <td>1</td>\n",
       "      <td>2</td>\n",
       "      <td>1</td>\n",
       "      <td>1</td>\n",
       "      <td>1</td>\n",
       "      <td>1</td>\n",
       "      <td>1</td>\n",
       "      <td>2</td>\n",
       "      <td>1</td>\n",
       "      <td>2</td>\n",
       "      <td>2</td>\n",
       "      <td>1</td>\n",
       "      <td>1</td>\n",
       "      <td>NO</td>\n",
       "    </tr>\n",
       "    <tr>\n",
       "      <th>5</th>\n",
       "      <td>F</td>\n",
       "      <td>75</td>\n",
       "      <td>1</td>\n",
       "      <td>2</td>\n",
       "      <td>1</td>\n",
       "      <td>1</td>\n",
       "      <td>2</td>\n",
       "      <td>2</td>\n",
       "      <td>2</td>\n",
       "      <td>2</td>\n",
       "      <td>1</td>\n",
       "      <td>2</td>\n",
       "      <td>2</td>\n",
       "      <td>1</td>\n",
       "      <td>1</td>\n",
       "      <td>YES</td>\n",
       "    </tr>\n",
       "    <tr>\n",
       "      <th>6</th>\n",
       "      <td>M</td>\n",
       "      <td>52</td>\n",
       "      <td>2</td>\n",
       "      <td>1</td>\n",
       "      <td>1</td>\n",
       "      <td>1</td>\n",
       "      <td>1</td>\n",
       "      <td>2</td>\n",
       "      <td>1</td>\n",
       "      <td>2</td>\n",
       "      <td>2</td>\n",
       "      <td>2</td>\n",
       "      <td>2</td>\n",
       "      <td>1</td>\n",
       "      <td>2</td>\n",
       "      <td>YES</td>\n",
       "    </tr>\n",
       "    <tr>\n",
       "      <th>7</th>\n",
       "      <td>F</td>\n",
       "      <td>51</td>\n",
       "      <td>2</td>\n",
       "      <td>2</td>\n",
       "      <td>2</td>\n",
       "      <td>2</td>\n",
       "      <td>1</td>\n",
       "      <td>2</td>\n",
       "      <td>2</td>\n",
       "      <td>1</td>\n",
       "      <td>1</td>\n",
       "      <td>1</td>\n",
       "      <td>2</td>\n",
       "      <td>2</td>\n",
       "      <td>1</td>\n",
       "      <td>YES</td>\n",
       "    </tr>\n",
       "    <tr>\n",
       "      <th>8</th>\n",
       "      <td>F</td>\n",
       "      <td>68</td>\n",
       "      <td>2</td>\n",
       "      <td>1</td>\n",
       "      <td>2</td>\n",
       "      <td>1</td>\n",
       "      <td>1</td>\n",
       "      <td>2</td>\n",
       "      <td>1</td>\n",
       "      <td>1</td>\n",
       "      <td>1</td>\n",
       "      <td>1</td>\n",
       "      <td>1</td>\n",
       "      <td>1</td>\n",
       "      <td>1</td>\n",
       "      <td>NO</td>\n",
       "    </tr>\n",
       "    <tr>\n",
       "      <th>9</th>\n",
       "      <td>M</td>\n",
       "      <td>53</td>\n",
       "      <td>2</td>\n",
       "      <td>2</td>\n",
       "      <td>2</td>\n",
       "      <td>2</td>\n",
       "      <td>2</td>\n",
       "      <td>1</td>\n",
       "      <td>2</td>\n",
       "      <td>1</td>\n",
       "      <td>2</td>\n",
       "      <td>1</td>\n",
       "      <td>1</td>\n",
       "      <td>2</td>\n",
       "      <td>2</td>\n",
       "      <td>YES</td>\n",
       "    </tr>\n",
       "  </tbody>\n",
       "</table>\n",
       "</div>"
      ],
      "text/plain": [
       "  GENDER  AGE  SMOKING  YELLOW_FINGERS  ANXIETY  PEER_PRESSURE  \\\n",
       "0      M   69        1               2        2              1   \n",
       "1      M   74        2               1        1              1   \n",
       "2      F   59        1               1        1              2   \n",
       "3      M   63        2               2        2              1   \n",
       "4      F   63        1               2        1              1   \n",
       "5      F   75        1               2        1              1   \n",
       "6      M   52        2               1        1              1   \n",
       "7      F   51        2               2        2              2   \n",
       "8      F   68        2               1        2              1   \n",
       "9      M   53        2               2        2              2   \n",
       "\n",
       "   CHRONIC DISEASE  FATIGUE   ALLERGY   WHEEZING  ALCOHOL CONSUMING  COUGHING  \\\n",
       "0                1         2         1         2                  2         2   \n",
       "1                2         2         2         1                  1         1   \n",
       "2                1         2         1         2                  1         2   \n",
       "3                1         1         1         1                  2         1   \n",
       "4                1         1         1         2                  1         2   \n",
       "5                2         2         2         2                  1         2   \n",
       "6                1         2         1         2                  2         2   \n",
       "7                1         2         2         1                  1         1   \n",
       "8                1         2         1         1                  1         1   \n",
       "9                2         1         2         1                  2         1   \n",
       "\n",
       "   SHORTNESS OF BREATH  SWALLOWING DIFFICULTY  CHEST PAIN LUNG_CANCER  \n",
       "0                    2                      2           2         YES  \n",
       "1                    2                      2           2         YES  \n",
       "2                    2                      1           2          NO  \n",
       "3                    1                      2           2          NO  \n",
       "4                    2                      1           1          NO  \n",
       "5                    2                      1           1         YES  \n",
       "6                    2                      1           2         YES  \n",
       "7                    2                      2           1         YES  \n",
       "8                    1                      1           1          NO  \n",
       "9                    1                      2           2         YES  "
      ]
     },
     "execution_count": 2,
     "metadata": {},
     "output_type": "execute_result"
    }
   ],
   "source": [
    "df=pd.read_csv('survey lung cancer.csv')\n",
    "df.head(10)\n"
   ]
  },
  {
   "cell_type": "code",
   "execution_count": 3,
   "id": "1620a738",
   "metadata": {},
   "outputs": [
    {
     "data": {
      "text/plain": [
       "(309, 16)"
      ]
     },
     "execution_count": 3,
     "metadata": {},
     "output_type": "execute_result"
    }
   ],
   "source": [
    "df.shape"
   ]
  },
  {
   "cell_type": "code",
   "execution_count": 4,
   "id": "1afb9158",
   "metadata": {},
   "outputs": [
    {
     "name": "stdout",
     "output_type": "stream",
     "text": [
      "<class 'pandas.core.frame.DataFrame'>\n",
      "RangeIndex: 309 entries, 0 to 308\n",
      "Data columns (total 16 columns):\n",
      " #   Column                 Non-Null Count  Dtype \n",
      "---  ------                 --------------  ----- \n",
      " 0   GENDER                 309 non-null    object\n",
      " 1   AGE                    309 non-null    int64 \n",
      " 2   SMOKING                309 non-null    int64 \n",
      " 3   YELLOW_FINGERS         309 non-null    int64 \n",
      " 4   ANXIETY                309 non-null    int64 \n",
      " 5   PEER_PRESSURE          309 non-null    int64 \n",
      " 6   CHRONIC DISEASE        309 non-null    int64 \n",
      " 7   FATIGUE                309 non-null    int64 \n",
      " 8   ALLERGY                309 non-null    int64 \n",
      " 9   WHEEZING               309 non-null    int64 \n",
      " 10  ALCOHOL CONSUMING      309 non-null    int64 \n",
      " 11  COUGHING               309 non-null    int64 \n",
      " 12  SHORTNESS OF BREATH    309 non-null    int64 \n",
      " 13  SWALLOWING DIFFICULTY  309 non-null    int64 \n",
      " 14  CHEST PAIN             309 non-null    int64 \n",
      " 15  LUNG_CANCER            309 non-null    object\n",
      "dtypes: int64(14), object(2)\n",
      "memory usage: 38.8+ KB\n"
     ]
    }
   ],
   "source": [
    "df.info()"
   ]
  },
  {
   "cell_type": "code",
   "execution_count": 5,
   "id": "b105ee74",
   "metadata": {},
   "outputs": [
    {
     "data": {
      "text/html": [
       "<div>\n",
       "<style scoped>\n",
       "    .dataframe tbody tr th:only-of-type {\n",
       "        vertical-align: middle;\n",
       "    }\n",
       "\n",
       "    .dataframe tbody tr th {\n",
       "        vertical-align: top;\n",
       "    }\n",
       "\n",
       "    .dataframe thead th {\n",
       "        text-align: right;\n",
       "    }\n",
       "</style>\n",
       "<table border=\"1\" class=\"dataframe\">\n",
       "  <thead>\n",
       "    <tr style=\"text-align: right;\">\n",
       "      <th></th>\n",
       "      <th>AGE</th>\n",
       "      <th>SMOKING</th>\n",
       "      <th>YELLOW_FINGERS</th>\n",
       "      <th>ANXIETY</th>\n",
       "      <th>PEER_PRESSURE</th>\n",
       "      <th>CHRONIC DISEASE</th>\n",
       "      <th>FATIGUE</th>\n",
       "      <th>ALLERGY</th>\n",
       "      <th>WHEEZING</th>\n",
       "      <th>ALCOHOL CONSUMING</th>\n",
       "      <th>COUGHING</th>\n",
       "      <th>SHORTNESS OF BREATH</th>\n",
       "      <th>SWALLOWING DIFFICULTY</th>\n",
       "      <th>CHEST PAIN</th>\n",
       "    </tr>\n",
       "  </thead>\n",
       "  <tbody>\n",
       "    <tr>\n",
       "      <th>count</th>\n",
       "      <td>309.000000</td>\n",
       "      <td>309.000000</td>\n",
       "      <td>309.000000</td>\n",
       "      <td>309.000000</td>\n",
       "      <td>309.000000</td>\n",
       "      <td>309.000000</td>\n",
       "      <td>309.000000</td>\n",
       "      <td>309.000000</td>\n",
       "      <td>309.000000</td>\n",
       "      <td>309.000000</td>\n",
       "      <td>309.000000</td>\n",
       "      <td>309.000000</td>\n",
       "      <td>309.000000</td>\n",
       "      <td>309.000000</td>\n",
       "    </tr>\n",
       "    <tr>\n",
       "      <th>mean</th>\n",
       "      <td>62.673139</td>\n",
       "      <td>1.563107</td>\n",
       "      <td>1.569579</td>\n",
       "      <td>1.498382</td>\n",
       "      <td>1.501618</td>\n",
       "      <td>1.504854</td>\n",
       "      <td>1.673139</td>\n",
       "      <td>1.556634</td>\n",
       "      <td>1.556634</td>\n",
       "      <td>1.556634</td>\n",
       "      <td>1.579288</td>\n",
       "      <td>1.640777</td>\n",
       "      <td>1.469256</td>\n",
       "      <td>1.556634</td>\n",
       "    </tr>\n",
       "    <tr>\n",
       "      <th>std</th>\n",
       "      <td>8.210301</td>\n",
       "      <td>0.496806</td>\n",
       "      <td>0.495938</td>\n",
       "      <td>0.500808</td>\n",
       "      <td>0.500808</td>\n",
       "      <td>0.500787</td>\n",
       "      <td>0.469827</td>\n",
       "      <td>0.497588</td>\n",
       "      <td>0.497588</td>\n",
       "      <td>0.497588</td>\n",
       "      <td>0.494474</td>\n",
       "      <td>0.480551</td>\n",
       "      <td>0.499863</td>\n",
       "      <td>0.497588</td>\n",
       "    </tr>\n",
       "    <tr>\n",
       "      <th>min</th>\n",
       "      <td>21.000000</td>\n",
       "      <td>1.000000</td>\n",
       "      <td>1.000000</td>\n",
       "      <td>1.000000</td>\n",
       "      <td>1.000000</td>\n",
       "      <td>1.000000</td>\n",
       "      <td>1.000000</td>\n",
       "      <td>1.000000</td>\n",
       "      <td>1.000000</td>\n",
       "      <td>1.000000</td>\n",
       "      <td>1.000000</td>\n",
       "      <td>1.000000</td>\n",
       "      <td>1.000000</td>\n",
       "      <td>1.000000</td>\n",
       "    </tr>\n",
       "    <tr>\n",
       "      <th>25%</th>\n",
       "      <td>57.000000</td>\n",
       "      <td>1.000000</td>\n",
       "      <td>1.000000</td>\n",
       "      <td>1.000000</td>\n",
       "      <td>1.000000</td>\n",
       "      <td>1.000000</td>\n",
       "      <td>1.000000</td>\n",
       "      <td>1.000000</td>\n",
       "      <td>1.000000</td>\n",
       "      <td>1.000000</td>\n",
       "      <td>1.000000</td>\n",
       "      <td>1.000000</td>\n",
       "      <td>1.000000</td>\n",
       "      <td>1.000000</td>\n",
       "    </tr>\n",
       "    <tr>\n",
       "      <th>50%</th>\n",
       "      <td>62.000000</td>\n",
       "      <td>2.000000</td>\n",
       "      <td>2.000000</td>\n",
       "      <td>1.000000</td>\n",
       "      <td>2.000000</td>\n",
       "      <td>2.000000</td>\n",
       "      <td>2.000000</td>\n",
       "      <td>2.000000</td>\n",
       "      <td>2.000000</td>\n",
       "      <td>2.000000</td>\n",
       "      <td>2.000000</td>\n",
       "      <td>2.000000</td>\n",
       "      <td>1.000000</td>\n",
       "      <td>2.000000</td>\n",
       "    </tr>\n",
       "    <tr>\n",
       "      <th>75%</th>\n",
       "      <td>69.000000</td>\n",
       "      <td>2.000000</td>\n",
       "      <td>2.000000</td>\n",
       "      <td>2.000000</td>\n",
       "      <td>2.000000</td>\n",
       "      <td>2.000000</td>\n",
       "      <td>2.000000</td>\n",
       "      <td>2.000000</td>\n",
       "      <td>2.000000</td>\n",
       "      <td>2.000000</td>\n",
       "      <td>2.000000</td>\n",
       "      <td>2.000000</td>\n",
       "      <td>2.000000</td>\n",
       "      <td>2.000000</td>\n",
       "    </tr>\n",
       "    <tr>\n",
       "      <th>max</th>\n",
       "      <td>87.000000</td>\n",
       "      <td>2.000000</td>\n",
       "      <td>2.000000</td>\n",
       "      <td>2.000000</td>\n",
       "      <td>2.000000</td>\n",
       "      <td>2.000000</td>\n",
       "      <td>2.000000</td>\n",
       "      <td>2.000000</td>\n",
       "      <td>2.000000</td>\n",
       "      <td>2.000000</td>\n",
       "      <td>2.000000</td>\n",
       "      <td>2.000000</td>\n",
       "      <td>2.000000</td>\n",
       "      <td>2.000000</td>\n",
       "    </tr>\n",
       "  </tbody>\n",
       "</table>\n",
       "</div>"
      ],
      "text/plain": [
       "              AGE     SMOKING  YELLOW_FINGERS     ANXIETY  PEER_PRESSURE  \\\n",
       "count  309.000000  309.000000      309.000000  309.000000     309.000000   \n",
       "mean    62.673139    1.563107        1.569579    1.498382       1.501618   \n",
       "std      8.210301    0.496806        0.495938    0.500808       0.500808   \n",
       "min     21.000000    1.000000        1.000000    1.000000       1.000000   \n",
       "25%     57.000000    1.000000        1.000000    1.000000       1.000000   \n",
       "50%     62.000000    2.000000        2.000000    1.000000       2.000000   \n",
       "75%     69.000000    2.000000        2.000000    2.000000       2.000000   \n",
       "max     87.000000    2.000000        2.000000    2.000000       2.000000   \n",
       "\n",
       "       CHRONIC DISEASE    FATIGUE     ALLERGY     WHEEZING  ALCOHOL CONSUMING  \\\n",
       "count       309.000000  309.000000  309.000000  309.000000         309.000000   \n",
       "mean          1.504854    1.673139    1.556634    1.556634           1.556634   \n",
       "std           0.500787    0.469827    0.497588    0.497588           0.497588   \n",
       "min           1.000000    1.000000    1.000000    1.000000           1.000000   \n",
       "25%           1.000000    1.000000    1.000000    1.000000           1.000000   \n",
       "50%           2.000000    2.000000    2.000000    2.000000           2.000000   \n",
       "75%           2.000000    2.000000    2.000000    2.000000           2.000000   \n",
       "max           2.000000    2.000000    2.000000    2.000000           2.000000   \n",
       "\n",
       "         COUGHING  SHORTNESS OF BREATH  SWALLOWING DIFFICULTY  CHEST PAIN  \n",
       "count  309.000000           309.000000             309.000000  309.000000  \n",
       "mean     1.579288             1.640777               1.469256    1.556634  \n",
       "std      0.494474             0.480551               0.499863    0.497588  \n",
       "min      1.000000             1.000000               1.000000    1.000000  \n",
       "25%      1.000000             1.000000               1.000000    1.000000  \n",
       "50%      2.000000             2.000000               1.000000    2.000000  \n",
       "75%      2.000000             2.000000               2.000000    2.000000  \n",
       "max      2.000000             2.000000               2.000000    2.000000  "
      ]
     },
     "execution_count": 5,
     "metadata": {},
     "output_type": "execute_result"
    }
   ],
   "source": [
    "df.describe()"
   ]
  },
  {
   "cell_type": "code",
   "execution_count": 6,
   "id": "4ce28249",
   "metadata": {},
   "outputs": [
    {
     "data": {
      "text/plain": [
       "GENDER                   0\n",
       "AGE                      0\n",
       "SMOKING                  0\n",
       "YELLOW_FINGERS           0\n",
       "ANXIETY                  0\n",
       "PEER_PRESSURE            0\n",
       "CHRONIC DISEASE          0\n",
       "FATIGUE                  0\n",
       "ALLERGY                  0\n",
       "WHEEZING                 0\n",
       "ALCOHOL CONSUMING        0\n",
       "COUGHING                 0\n",
       "SHORTNESS OF BREATH      0\n",
       "SWALLOWING DIFFICULTY    0\n",
       "CHEST PAIN               0\n",
       "LUNG_CANCER              0\n",
       "dtype: int64"
      ]
     },
     "execution_count": 6,
     "metadata": {},
     "output_type": "execute_result"
    }
   ],
   "source": [
    "df.isnull().sum(axis=0)"
   ]
  },
  {
   "cell_type": "code",
   "execution_count": 7,
   "id": "ac1a6ca3",
   "metadata": {},
   "outputs": [
    {
     "data": {
      "text/plain": [
       "<AxesSubplot:>"
      ]
     },
     "execution_count": 7,
     "metadata": {},
     "output_type": "execute_result"
    },
    {
     "data": {
      "image/png": "[encoded data removed]",
      "text/plain": [
       "<Figure size 1440x720 with 2 Axes>"
      ]
     },
     "metadata": {
      "needs_background": "light"
     },
     "output_type": "display_data"
    }
   ],
   "source": [
    "msno.matrix(df=df,figsize=(20, 10),fontsize=15, ) #check null values\n"
   ]
  },
  {
   "cell_type": "markdown",
   "id": "ec7ce939",
   "metadata": {},
   "source": [
    "## there is no null values"
   ]
  },
  {
   "cell_type": "code",
   "execution_count": 8,
   "id": "c1c0e4af",
   "metadata": {},
   "outputs": [
    {
     "data": {
      "text/plain": [
       "Index(['GENDER', 'AGE', 'SMOKING', 'YELLOW_FINGERS', 'ANXIETY',\n",
       "       'PEER_PRESSURE', 'CHRONIC DISEASE', 'FATIGUE ', 'ALLERGY ', 'WHEEZING',\n",
       "       'ALCOHOL CONSUMING', 'COUGHING', 'SHORTNESS OF BREATH',\n",
       "       'SWALLOWING DIFFICULTY', 'CHEST PAIN', 'LUNG_CANCER'],\n",
       "      dtype='object')"
      ]
     },
     "execution_count": 8,
     "metadata": {},
     "output_type": "execute_result"
    }
   ],
   "source": [
    "df.columns"
   ]
  },
  {
   "cell_type": "code",
   "execution_count": 9,
   "id": "fc26a6d3",
   "metadata": {},
   "outputs": [
    {
     "data": {
      "image/png": "[encoded data removed]",
      "text/plain": [
       "<Figure size 504x360 with 1 Axes>"
      ]
     },
     "metadata": {
      "needs_background": "light"
     },
     "output_type": "display_data"
    }
   ],
   "source": [
    "colors=['#182747','#DF5861']\n",
    "plt.figure(figsize=(7,5))\n",
    "sns.countplot(x='GENDER',data=df,palette='rocket')\n",
    "plt.xlabel(fontsize=25,color='#182747',xlabel='GENDER TYPE',fontstyle='italic')\n",
    "plt.xticks(ticks=np.arange(2),labels=[\"Male\",\"Female\"])\n",
    "plt.ylabel(fontsize=25,color='#182747',ylabel='Frequancy',fontstyle='italic')\n",
    "plt.title(label='GENDER',fontsize=25,color='#182747',fontstyle='italic')\n",
    "counts=df.GENDER.value_counts()\n",
    "for i in range(counts.shape[0]):\n",
    "        plt.text(x=i,y=(counts[i]),s=f\"{(counts[i])}\",size=15,ha='right',color='red',fontstyle='italic')\n",
    "for i in range(counts.shape[0]):\n",
    "        plt.text(x=i,y=(counts[i]),s=f' -> {((counts[i]/df.shape[0])*100):.2f} %',size=15,ha='left',color='#06283D',fontstyle='italic')"
   ]
  },
  {
   "cell_type": "code",
   "execution_count": 10,
   "id": "41373c42",
   "metadata": {},
   "outputs": [
    {
     "data": {
      "image/png": "[encoded data removed]",
      "text/plain": [
       "<Figure size 360x504 with 1 Axes>"
      ]
     },
     "metadata": {},
     "output_type": "display_data"
    }
   ],
   "source": [
    "fig, ax = plt.subplots(figsize=(5, 7))\n",
    "colors=['#182747','#DF5861']\n",
    "patches, texts, pcts = ax.pie(\n",
    "    df['GENDER'].value_counts(), labels=[\"Male\",\"Female\"],shadow=True, autopct='%.2f%%',colors=colors,\n",
    "    wedgeprops={'linewidth': 3.0, 'edgecolor': 'white'},\n",
    "    textprops={'size': 'x-large'},\n",
    "    startangle=90)\n",
    "\n",
    "for i, patch in enumerate(patches):\n",
    "    texts[i].set_color(patch.get_facecolor())\n",
    "plt.setp(pcts, color='white')\n",
    "plt.setp(texts, fontweight=600)\n",
    "centre_circle = plt.Circle((0,0),0.20,fc='#F1F1F1') \n",
    "plt.gcf().gca().add_artist(centre_circle)\n",
    "plt.tight_layout()\n",
    "plt.title(label='GENDER DISTRIBUTION',fontsize=15,color='#182747',fontstyle='italic')\n",
    "\n",
    "plt.tight_layout()"
   ]
  },
  {
   "cell_type": "markdown",
   "id": "e19c8cc0",
   "metadata": {},
   "source": [
    "# age distribution"
   ]
  },
  {
   "cell_type": "code",
   "execution_count": 12,
   "id": "b33d97c5",
   "metadata": {},
   "outputs": [
    {
     "data": {
      "text/plain": [
       "(21,\n",
       " array([  1,   9, 113, 156,  30], dtype=int64),\n",
       " array([21. , 34.2, 47.4, 60.6, 73.8, 87. ]))"
      ]
     },
     "execution_count": 12,
     "metadata": {},
     "output_type": "execute_result"
    }
   ],
   "source": [
    "c,bins=np.histogram(df.AGE,bins=5)\n",
    "np.min(df.AGE.values),c,bins\n"
   ]
  },
  {
   "cell_type": "code",
   "execution_count": 13,
   "id": "29a878e6",
   "metadata": {},
   "outputs": [
    {
     "data": {
      "text/plain": [
       "['21.00 : 34.20',\n",
       " '34.20 : 47.40',\n",
       " '47.40 : 60.60',\n",
       " '60.60 : 73.80',\n",
       " '73.80 : 87.00']"
      ]
     },
     "execution_count": 13,
     "metadata": {},
     "output_type": "execute_result"
    }
   ],
   "source": [
    "labels=[]\n",
    "for i in range(len(bins)-1):\n",
    "    labels.append(f\"{bins[i]:.2f} : {bins[i+1]:.2f}\" )\n",
    "\n",
    "labels"
   ]
  },
  {
   "cell_type": "code",
   "execution_count": 14,
   "id": "c54dd29a",
   "metadata": {},
   "outputs": [
    {
     "data": {
      "text/plain": [
       "(5, 5)"
      ]
     },
     "execution_count": 14,
     "metadata": {},
     "output_type": "execute_result"
    }
   ],
   "source": [
    "len(labels),len(c)"
   ]
  },
  {
   "cell_type": "code",
   "execution_count": 135,
   "id": "25a1791f",
   "metadata": {},
   "outputs": [
    {
     "data": {
      "image/png": "[encoded data removed]",
      "text/plain": [
       "<Figure size 576x504 with 1 Axes>"
      ]
     },
     "metadata": {
      "needs_background": "light"
     },
     "output_type": "display_data"
    }
   ],
   "source": [
    "plt.figure(figsize=(8,7))\n",
    "age_dist=pd.cut(df.AGE,bins=bins,labels=labels)\n",
    "sns.countplot(age_dist);\n",
    "plt.xlabel(fontsize=25,color='#182747',xlabel='AGE',fontstyle='italic')\n",
    "plt.ylabel(fontsize=25,color='#182747',ylabel='Frequancy',fontstyle='italic')\n",
    "plt.title(label='AGE DISTRIBUTION',fontsize=25,color='#182747',fontstyle='italic')\n",
    "for i in range(len(c)):\n",
    "        plt.text(x=i+.15,y=(c[i]+2),s=f\"{(c[i])}\",size=10,ha='right',color='red',fontstyle='italic')\n"
   ]
  },
  {
   "cell_type": "code",
   "execution_count": 138,
   "id": "650d657e",
   "metadata": {},
   "outputs": [
    {
     "data": {
      "image/png": "[encoded data removed]",
      "text/plain": [
       "<Figure size 720x576 with 1 Axes>"
      ]
     },
     "metadata": {
      "needs_background": "light"
     },
     "output_type": "display_data"
    }
   ],
   "source": [
    "plt.figure(figsize=(10,8))\n",
    "sns.histplot(df, x=\"AGE\", kde=True,hue='LUNG_CANCER',palette=\"rocket\")\n",
    "plt.xticks(ticks=bins); "
   ]
  },
  {
   "cell_type": "code",
   "execution_count": 16,
   "id": "bbad9f78",
   "metadata": {},
   "outputs": [
    {
     "data": {
      "text/plain": [
       "['AGE',\n",
       " 'SMOKING',\n",
       " 'YELLOW_FINGERS',\n",
       " 'ANXIETY',\n",
       " 'PEER_PRESSURE',\n",
       " 'CHRONIC DISEASE',\n",
       " 'FATIGUE ',\n",
       " 'ALLERGY ',\n",
       " 'WHEEZING',\n",
       " 'ALCOHOL CONSUMING',\n",
       " 'COUGHING',\n",
       " 'SHORTNESS OF BREATH',\n",
       " 'SWALLOWING DIFFICULTY',\n",
       " 'CHEST PAIN']"
      ]
     },
     "execution_count": 16,
     "metadata": {},
     "output_type": "execute_result"
    }
   ],
   "source": [
    "num_col=[i for i in df.columns if df[i].dtype not in ['O']]\n",
    "num_col"
   ]
  },
  {
   "cell_type": "code",
   "execution_count": null,
   "id": "62803717",
   "metadata": {},
   "outputs": [],
   "source": []
  },
  {
   "cell_type": "code",
   "execution_count": null,
   "id": "58e05b62",
   "metadata": {},
   "outputs": [],
   "source": []
  },
  {
   "cell_type": "code",
   "execution_count": 20,
   "id": "5a169ca0",
   "metadata": {},
   "outputs": [
    {
     "data": {
      "text/html": [
       "<div>\n",
       "<style scoped>\n",
       "    .dataframe tbody tr th:only-of-type {\n",
       "        vertical-align: middle;\n",
       "    }\n",
       "\n",
       "    .dataframe tbody tr th {\n",
       "        vertical-align: top;\n",
       "    }\n",
       "\n",
       "    .dataframe thead th {\n",
       "        text-align: right;\n",
       "    }\n",
       "</style>\n",
       "<table border=\"1\" class=\"dataframe\">\n",
       "  <thead>\n",
       "    <tr style=\"text-align: right;\">\n",
       "      <th></th>\n",
       "      <th>GENDER</th>\n",
       "      <th>AGE</th>\n",
       "      <th>SMOKING</th>\n",
       "      <th>YELLOW_FINGERS</th>\n",
       "      <th>ANXIETY</th>\n",
       "      <th>PEER_PRESSURE</th>\n",
       "      <th>CHRONIC DISEASE</th>\n",
       "      <th>FATIGUE</th>\n",
       "      <th>ALLERGY</th>\n",
       "      <th>WHEEZING</th>\n",
       "      <th>ALCOHOL CONSUMING</th>\n",
       "      <th>COUGHING</th>\n",
       "      <th>SHORTNESS OF BREATH</th>\n",
       "      <th>SWALLOWING DIFFICULTY</th>\n",
       "      <th>CHEST PAIN</th>\n",
       "    </tr>\n",
       "  </thead>\n",
       "  <tbody>\n",
       "    <tr>\n",
       "      <th>0</th>\n",
       "      <td>M</td>\n",
       "      <td>69</td>\n",
       "      <td>1</td>\n",
       "      <td>2</td>\n",
       "      <td>2</td>\n",
       "      <td>1</td>\n",
       "      <td>1</td>\n",
       "      <td>2</td>\n",
       "      <td>1</td>\n",
       "      <td>2</td>\n",
       "      <td>2</td>\n",
       "      <td>2</td>\n",
       "      <td>2</td>\n",
       "      <td>2</td>\n",
       "      <td>2</td>\n",
       "    </tr>\n",
       "    <tr>\n",
       "      <th>1</th>\n",
       "      <td>M</td>\n",
       "      <td>74</td>\n",
       "      <td>2</td>\n",
       "      <td>1</td>\n",
       "      <td>1</td>\n",
       "      <td>1</td>\n",
       "      <td>2</td>\n",
       "      <td>2</td>\n",
       "      <td>2</td>\n",
       "      <td>1</td>\n",
       "      <td>1</td>\n",
       "      <td>1</td>\n",
       "      <td>2</td>\n",
       "      <td>2</td>\n",
       "      <td>2</td>\n",
       "    </tr>\n",
       "    <tr>\n",
       "      <th>2</th>\n",
       "      <td>F</td>\n",
       "      <td>59</td>\n",
       "      <td>1</td>\n",
       "      <td>1</td>\n",
       "      <td>1</td>\n",
       "      <td>2</td>\n",
       "      <td>1</td>\n",
       "      <td>2</td>\n",
       "      <td>1</td>\n",
       "      <td>2</td>\n",
       "      <td>1</td>\n",
       "      <td>2</td>\n",
       "      <td>2</td>\n",
       "      <td>1</td>\n",
       "      <td>2</td>\n",
       "    </tr>\n",
       "    <tr>\n",
       "      <th>3</th>\n",
       "      <td>M</td>\n",
       "      <td>63</td>\n",
       "      <td>2</td>\n",
       "      <td>2</td>\n",
       "      <td>2</td>\n",
       "      <td>1</td>\n",
       "      <td>1</td>\n",
       "      <td>1</td>\n",
       "      <td>1</td>\n",
       "      <td>1</td>\n",
       "      <td>2</td>\n",
       "      <td>1</td>\n",
       "      <td>1</td>\n",
       "      <td>2</td>\n",
       "      <td>2</td>\n",
       "    </tr>\n",
       "    <tr>\n",
       "      <th>4</th>\n",
       "      <td>F</td>\n",
       "      <td>63</td>\n",
       "      <td>1</td>\n",
       "      <td>2</td>\n",
       "      <td>1</td>\n",
       "      <td>1</td>\n",
       "      <td>1</td>\n",
       "      <td>1</td>\n",
       "      <td>1</td>\n",
       "      <td>2</td>\n",
       "      <td>1</td>\n",
       "      <td>2</td>\n",
       "      <td>2</td>\n",
       "      <td>1</td>\n",
       "      <td>1</td>\n",
       "    </tr>\n",
       "    <tr>\n",
       "      <th>...</th>\n",
       "      <td>...</td>\n",
       "      <td>...</td>\n",
       "      <td>...</td>\n",
       "      <td>...</td>\n",
       "      <td>...</td>\n",
       "      <td>...</td>\n",
       "      <td>...</td>\n",
       "      <td>...</td>\n",
       "      <td>...</td>\n",
       "      <td>...</td>\n",
       "      <td>...</td>\n",
       "      <td>...</td>\n",
       "      <td>...</td>\n",
       "      <td>...</td>\n",
       "      <td>...</td>\n",
       "    </tr>\n",
       "    <tr>\n",
       "      <th>304</th>\n",
       "      <td>F</td>\n",
       "      <td>56</td>\n",
       "      <td>1</td>\n",
       "      <td>1</td>\n",
       "      <td>1</td>\n",
       "      <td>2</td>\n",
       "      <td>2</td>\n",
       "      <td>2</td>\n",
       "      <td>1</td>\n",
       "      <td>1</td>\n",
       "      <td>2</td>\n",
       "      <td>2</td>\n",
       "      <td>2</td>\n",
       "      <td>2</td>\n",
       "      <td>1</td>\n",
       "    </tr>\n",
       "    <tr>\n",
       "      <th>305</th>\n",
       "      <td>M</td>\n",
       "      <td>70</td>\n",
       "      <td>2</td>\n",
       "      <td>1</td>\n",
       "      <td>1</td>\n",
       "      <td>1</td>\n",
       "      <td>1</td>\n",
       "      <td>2</td>\n",
       "      <td>2</td>\n",
       "      <td>2</td>\n",
       "      <td>2</td>\n",
       "      <td>2</td>\n",
       "      <td>2</td>\n",
       "      <td>1</td>\n",
       "      <td>2</td>\n",
       "    </tr>\n",
       "    <tr>\n",
       "      <th>306</th>\n",
       "      <td>M</td>\n",
       "      <td>58</td>\n",
       "      <td>2</td>\n",
       "      <td>1</td>\n",
       "      <td>1</td>\n",
       "      <td>1</td>\n",
       "      <td>1</td>\n",
       "      <td>1</td>\n",
       "      <td>2</td>\n",
       "      <td>2</td>\n",
       "      <td>2</td>\n",
       "      <td>2</td>\n",
       "      <td>1</td>\n",
       "      <td>1</td>\n",
       "      <td>2</td>\n",
       "    </tr>\n",
       "    <tr>\n",
       "      <th>307</th>\n",
       "      <td>M</td>\n",
       "      <td>67</td>\n",
       "      <td>2</td>\n",
       "      <td>1</td>\n",
       "      <td>2</td>\n",
       "      <td>1</td>\n",
       "      <td>1</td>\n",
       "      <td>2</td>\n",
       "      <td>2</td>\n",
       "      <td>1</td>\n",
       "      <td>2</td>\n",
       "      <td>2</td>\n",
       "      <td>2</td>\n",
       "      <td>1</td>\n",
       "      <td>2</td>\n",
       "    </tr>\n",
       "    <tr>\n",
       "      <th>308</th>\n",
       "      <td>M</td>\n",
       "      <td>62</td>\n",
       "      <td>1</td>\n",
       "      <td>1</td>\n",
       "      <td>1</td>\n",
       "      <td>2</td>\n",
       "      <td>1</td>\n",
       "      <td>2</td>\n",
       "      <td>2</td>\n",
       "      <td>2</td>\n",
       "      <td>2</td>\n",
       "      <td>1</td>\n",
       "      <td>1</td>\n",
       "      <td>2</td>\n",
       "      <td>1</td>\n",
       "    </tr>\n",
       "  </tbody>\n",
       "</table>\n",
       "<p>309 rows × 15 columns</p>\n",
       "</div>"
      ],
      "text/plain": [
       "    GENDER  AGE  SMOKING  YELLOW_FINGERS  ANXIETY  PEER_PRESSURE  \\\n",
       "0        M   69        1               2        2              1   \n",
       "1        M   74        2               1        1              1   \n",
       "2        F   59        1               1        1              2   \n",
       "3        M   63        2               2        2              1   \n",
       "4        F   63        1               2        1              1   \n",
       "..     ...  ...      ...             ...      ...            ...   \n",
       "304      F   56        1               1        1              2   \n",
       "305      M   70        2               1        1              1   \n",
       "306      M   58        2               1        1              1   \n",
       "307      M   67        2               1        2              1   \n",
       "308      M   62        1               1        1              2   \n",
       "\n",
       "     CHRONIC DISEASE  FATIGUE   ALLERGY   WHEEZING  ALCOHOL CONSUMING  \\\n",
       "0                  1         2         1         2                  2   \n",
       "1                  2         2         2         1                  1   \n",
       "2                  1         2         1         2                  1   \n",
       "3                  1         1         1         1                  2   \n",
       "4                  1         1         1         2                  1   \n",
       "..               ...       ...       ...       ...                ...   \n",
       "304                2         2         1         1                  2   \n",
       "305                1         2         2         2                  2   \n",
       "306                1         1         2         2                  2   \n",
       "307                1         2         2         1                  2   \n",
       "308                1         2         2         2                  2   \n",
       "\n",
       "     COUGHING  SHORTNESS OF BREATH  SWALLOWING DIFFICULTY  CHEST PAIN  \n",
       "0           2                    2                      2           2  \n",
       "1           1                    2                      2           2  \n",
       "2           2                    2                      1           2  \n",
       "3           1                    1                      2           2  \n",
       "4           2                    2                      1           1  \n",
       "..        ...                  ...                    ...         ...  \n",
       "304         2                    2                      2           1  \n",
       "305         2                    2                      1           2  \n",
       "306         2                    1                      1           2  \n",
       "307         2                    2                      1           2  \n",
       "308         1                    1                      2           1  \n",
       "\n",
       "[309 rows x 15 columns]"
      ]
     },
     "execution_count": 20,
     "metadata": {},
     "output_type": "execute_result"
    }
   ],
   "source": [
    "df.iloc[:,:-1]"
   ]
  },
  {
   "cell_type": "markdown",
   "id": "23794318",
   "metadata": {},
   "source": [
    "## ` Split to Features and traget`"
   ]
  },
  {
   "cell_type": "code",
   "execution_count": 21,
   "id": "bc295c43",
   "metadata": {},
   "outputs": [],
   "source": [
    "x=df.iloc[:,:-1]\n",
    "y=df.iloc[:,-1]"
   ]
  },
  {
   "cell_type": "code",
   "execution_count": 22,
   "id": "d1f0ae55",
   "metadata": {},
   "outputs": [
    {
     "data": {
      "text/plain": [
       "((309, 15), (309,))"
      ]
     },
     "execution_count": 22,
     "metadata": {},
     "output_type": "execute_result"
    }
   ],
   "source": [
    "x.shape,y.shape"
   ]
  },
  {
   "cell_type": "code",
   "execution_count": 23,
   "id": "7a7bbd41",
   "metadata": {},
   "outputs": [],
   "source": [
    "x_train,x_test,y_train,y_test=train_test_split(x,y,test_size=.15,shuffle=True,random_state=123)"
   ]
  },
  {
   "cell_type": "code",
   "execution_count": 24,
   "id": "b3d4cd47",
   "metadata": {},
   "outputs": [
    {
     "data": {
      "text/plain": [
       "((262, 15), (47, 15), (262,), (47,))"
      ]
     },
     "execution_count": 24,
     "metadata": {},
     "output_type": "execute_result"
    }
   ],
   "source": [
    "x_train.shape,x_test.shape,y_train.shape,y_test.shape"
   ]
  },
  {
   "cell_type": "code",
   "execution_count": 25,
   "id": "4db017b8",
   "metadata": {},
   "outputs": [
    {
     "data": {
      "text/html": [
       "<div>\n",
       "<style scoped>\n",
       "    .dataframe tbody tr th:only-of-type {\n",
       "        vertical-align: middle;\n",
       "    }\n",
       "\n",
       "    .dataframe tbody tr th {\n",
       "        vertical-align: top;\n",
       "    }\n",
       "\n",
       "    .dataframe thead th {\n",
       "        text-align: right;\n",
       "    }\n",
       "</style>\n",
       "<table border=\"1\" class=\"dataframe\">\n",
       "  <thead>\n",
       "    <tr style=\"text-align: right;\">\n",
       "      <th></th>\n",
       "      <th>AGE</th>\n",
       "      <th>SMOKING</th>\n",
       "      <th>YELLOW_FINGERS</th>\n",
       "      <th>ANXIETY</th>\n",
       "      <th>PEER_PRESSURE</th>\n",
       "      <th>CHRONIC DISEASE</th>\n",
       "      <th>FATIGUE</th>\n",
       "      <th>ALLERGY</th>\n",
       "      <th>WHEEZING</th>\n",
       "      <th>ALCOHOL CONSUMING</th>\n",
       "      <th>COUGHING</th>\n",
       "      <th>SHORTNESS OF BREATH</th>\n",
       "      <th>SWALLOWING DIFFICULTY</th>\n",
       "      <th>CHEST PAIN</th>\n",
       "    </tr>\n",
       "  </thead>\n",
       "  <tbody>\n",
       "    <tr>\n",
       "      <th>125</th>\n",
       "      <td>53</td>\n",
       "      <td>1</td>\n",
       "      <td>2</td>\n",
       "      <td>2</td>\n",
       "      <td>2</td>\n",
       "      <td>2</td>\n",
       "      <td>2</td>\n",
       "      <td>2</td>\n",
       "      <td>1</td>\n",
       "      <td>1</td>\n",
       "      <td>2</td>\n",
       "      <td>2</td>\n",
       "      <td>1</td>\n",
       "      <td>1</td>\n",
       "    </tr>\n",
       "    <tr>\n",
       "      <th>128</th>\n",
       "      <td>58</td>\n",
       "      <td>2</td>\n",
       "      <td>2</td>\n",
       "      <td>2</td>\n",
       "      <td>2</td>\n",
       "      <td>1</td>\n",
       "      <td>2</td>\n",
       "      <td>1</td>\n",
       "      <td>1</td>\n",
       "      <td>1</td>\n",
       "      <td>2</td>\n",
       "      <td>2</td>\n",
       "      <td>2</td>\n",
       "      <td>1</td>\n",
       "    </tr>\n",
       "    <tr>\n",
       "      <th>184</th>\n",
       "      <td>72</td>\n",
       "      <td>2</td>\n",
       "      <td>1</td>\n",
       "      <td>1</td>\n",
       "      <td>1</td>\n",
       "      <td>1</td>\n",
       "      <td>2</td>\n",
       "      <td>2</td>\n",
       "      <td>2</td>\n",
       "      <td>2</td>\n",
       "      <td>2</td>\n",
       "      <td>2</td>\n",
       "      <td>1</td>\n",
       "      <td>2</td>\n",
       "    </tr>\n",
       "    <tr>\n",
       "      <th>30</th>\n",
       "      <td>57</td>\n",
       "      <td>2</td>\n",
       "      <td>2</td>\n",
       "      <td>1</td>\n",
       "      <td>1</td>\n",
       "      <td>1</td>\n",
       "      <td>1</td>\n",
       "      <td>1</td>\n",
       "      <td>1</td>\n",
       "      <td>1</td>\n",
       "      <td>1</td>\n",
       "      <td>2</td>\n",
       "      <td>1</td>\n",
       "      <td>1</td>\n",
       "    </tr>\n",
       "    <tr>\n",
       "      <th>19</th>\n",
       "      <td>61</td>\n",
       "      <td>1</td>\n",
       "      <td>1</td>\n",
       "      <td>1</td>\n",
       "      <td>1</td>\n",
       "      <td>2</td>\n",
       "      <td>2</td>\n",
       "      <td>1</td>\n",
       "      <td>1</td>\n",
       "      <td>1</td>\n",
       "      <td>1</td>\n",
       "      <td>2</td>\n",
       "      <td>1</td>\n",
       "      <td>1</td>\n",
       "    </tr>\n",
       "    <tr>\n",
       "      <th>...</th>\n",
       "      <td>...</td>\n",
       "      <td>...</td>\n",
       "      <td>...</td>\n",
       "      <td>...</td>\n",
       "      <td>...</td>\n",
       "      <td>...</td>\n",
       "      <td>...</td>\n",
       "      <td>...</td>\n",
       "      <td>...</td>\n",
       "      <td>...</td>\n",
       "      <td>...</td>\n",
       "      <td>...</td>\n",
       "      <td>...</td>\n",
       "      <td>...</td>\n",
       "    </tr>\n",
       "    <tr>\n",
       "      <th>106</th>\n",
       "      <td>61</td>\n",
       "      <td>2</td>\n",
       "      <td>2</td>\n",
       "      <td>2</td>\n",
       "      <td>2</td>\n",
       "      <td>2</td>\n",
       "      <td>2</td>\n",
       "      <td>1</td>\n",
       "      <td>1</td>\n",
       "      <td>1</td>\n",
       "      <td>1</td>\n",
       "      <td>2</td>\n",
       "      <td>2</td>\n",
       "      <td>1</td>\n",
       "    </tr>\n",
       "    <tr>\n",
       "      <th>83</th>\n",
       "      <td>81</td>\n",
       "      <td>1</td>\n",
       "      <td>1</td>\n",
       "      <td>1</td>\n",
       "      <td>2</td>\n",
       "      <td>2</td>\n",
       "      <td>1</td>\n",
       "      <td>2</td>\n",
       "      <td>1</td>\n",
       "      <td>2</td>\n",
       "      <td>2</td>\n",
       "      <td>2</td>\n",
       "      <td>1</td>\n",
       "      <td>1</td>\n",
       "    </tr>\n",
       "    <tr>\n",
       "      <th>17</th>\n",
       "      <td>57</td>\n",
       "      <td>2</td>\n",
       "      <td>2</td>\n",
       "      <td>2</td>\n",
       "      <td>2</td>\n",
       "      <td>2</td>\n",
       "      <td>1</td>\n",
       "      <td>1</td>\n",
       "      <td>1</td>\n",
       "      <td>2</td>\n",
       "      <td>1</td>\n",
       "      <td>1</td>\n",
       "      <td>2</td>\n",
       "      <td>2</td>\n",
       "    </tr>\n",
       "    <tr>\n",
       "      <th>230</th>\n",
       "      <td>78</td>\n",
       "      <td>1</td>\n",
       "      <td>2</td>\n",
       "      <td>1</td>\n",
       "      <td>2</td>\n",
       "      <td>2</td>\n",
       "      <td>2</td>\n",
       "      <td>1</td>\n",
       "      <td>2</td>\n",
       "      <td>1</td>\n",
       "      <td>1</td>\n",
       "      <td>2</td>\n",
       "      <td>2</td>\n",
       "      <td>2</td>\n",
       "    </tr>\n",
       "    <tr>\n",
       "      <th>98</th>\n",
       "      <td>64</td>\n",
       "      <td>1</td>\n",
       "      <td>2</td>\n",
       "      <td>2</td>\n",
       "      <td>2</td>\n",
       "      <td>1</td>\n",
       "      <td>2</td>\n",
       "      <td>2</td>\n",
       "      <td>1</td>\n",
       "      <td>1</td>\n",
       "      <td>2</td>\n",
       "      <td>1</td>\n",
       "      <td>2</td>\n",
       "      <td>1</td>\n",
       "    </tr>\n",
       "  </tbody>\n",
       "</table>\n",
       "<p>262 rows × 14 columns</p>\n",
       "</div>"
      ],
      "text/plain": [
       "     AGE  SMOKING  YELLOW_FINGERS  ANXIETY  PEER_PRESSURE  CHRONIC DISEASE  \\\n",
       "125   53        1               2        2              2                2   \n",
       "128   58        2               2        2              2                1   \n",
       "184   72        2               1        1              1                1   \n",
       "30    57        2               2        1              1                1   \n",
       "19    61        1               1        1              1                2   \n",
       "..   ...      ...             ...      ...            ...              ...   \n",
       "106   61        2               2        2              2                2   \n",
       "83    81        1               1        1              2                2   \n",
       "17    57        2               2        2              2                2   \n",
       "230   78        1               2        1              2                2   \n",
       "98    64        1               2        2              2                1   \n",
       "\n",
       "     FATIGUE   ALLERGY   WHEEZING  ALCOHOL CONSUMING  COUGHING  \\\n",
       "125         2         2         1                  1         2   \n",
       "128         2         1         1                  1         2   \n",
       "184         2         2         2                  2         2   \n",
       "30          1         1         1                  1         1   \n",
       "19          2         1         1                  1         1   \n",
       "..        ...       ...       ...                ...       ...   \n",
       "106         2         1         1                  1         1   \n",
       "83          1         2         1                  2         2   \n",
       "17          1         1         1                  2         1   \n",
       "230         2         1         2                  1         1   \n",
       "98          2         2         1                  1         2   \n",
       "\n",
       "     SHORTNESS OF BREATH  SWALLOWING DIFFICULTY  CHEST PAIN  \n",
       "125                    2                      1           1  \n",
       "128                    2                      2           1  \n",
       "184                    2                      1           2  \n",
       "30                     2                      1           1  \n",
       "19                     2                      1           1  \n",
       "..                   ...                    ...         ...  \n",
       "106                    2                      2           1  \n",
       "83                     2                      1           1  \n",
       "17                     1                      2           2  \n",
       "230                    2                      2           2  \n",
       "98                     1                      2           1  \n",
       "\n",
       "[262 rows x 14 columns]"
      ]
     },
     "execution_count": 25,
     "metadata": {},
     "output_type": "execute_result"
    }
   ],
   "source": [
    "x_train[num_col]"
   ]
  },
  {
   "cell_type": "markdown",
   "id": "883eeea8",
   "metadata": {},
   "source": [
    "## ` features preprocessing`\n",
    "`"
   ]
  },
  {
   "cell_type": "markdown",
   "id": "41cad981",
   "metadata": {},
   "source": [
    "##  we used numerical pipline for imputing and scaling at the smame time"
   ]
  },
  {
   "cell_type": "code",
   "execution_count": 26,
   "id": "56057b58",
   "metadata": {},
   "outputs": [
    {
     "data": {
      "text/plain": [
       "['GENDER']"
      ]
     },
     "execution_count": 26,
     "metadata": {},
     "output_type": "execute_result"
    }
   ],
   "source": [
    "[i for i in x_train.columns if i not in num_col]"
   ]
  },
  {
   "cell_type": "code",
   "execution_count": 27,
   "id": "1b9d3b5f",
   "metadata": {},
   "outputs": [],
   "source": [
    "# num pipline\n",
    "num_pipline=Pipeline(steps=[('selector',DataFrameSelector(num_col))\n",
    "                            ,('imputer',SimpleImputer(strategy='most_frequent'))\n",
    "                            ,('scaler',StandardScaler())\n",
    "                           ])                  #steps take list of tubles\n",
    "# category pipline\n",
    "categ_pipeline=Pipeline(steps=[('selector',DataFrameSelector([\"GENDER\"]))\n",
    "                              ,('imputer',SimpleImputer(strategy=\"most_frequent\"))\n",
    "                              ,('ohe',OneHotEncoder())])\n",
    "\n",
    "# total pipline\n",
    "total_pipline=FeatureUnion(transformer_list=[(\"num_pipline\",num_pipline)\n",
    "                                             ,(\"categ_pipeline\",categ_pipeline)])\n",
    "total_pipline.fit(X=x_train)\n",
    "x_train_final=total_pipline.transform(x_train)\n",
    "\n",
    "x_test_final=total_pipline.transform(x_test)"
   ]
  },
  {
   "cell_type": "code",
   "execution_count": 28,
   "id": "36c579e3",
   "metadata": {},
   "outputs": [],
   "source": [
    "y_train = (y_train==\"YES\")\n",
    "y_test = (y_test=='YES')"
   ]
  },
  {
   "cell_type": "code",
   "execution_count": 29,
   "id": "94d2be0b",
   "metadata": {},
   "outputs": [
    {
     "data": {
      "text/plain": [
       "125     True\n",
       "128     True\n",
       "184     True\n",
       "30     False\n",
       "19     False\n",
       "       ...  \n",
       "106     True\n",
       "83      True\n",
       "17      True\n",
       "230     True\n",
       "98      True\n",
       "Name: LUNG_CANCER, Length: 262, dtype: bool"
      ]
     },
     "execution_count": 29,
     "metadata": {},
     "output_type": "execute_result"
    }
   ],
   "source": [
    "y_train"
   ]
  },
  {
   "cell_type": "markdown",
   "id": "94c0944e",
   "metadata": {},
   "source": [
    "### `Build the Models`"
   ]
  },
  {
   "cell_type": "code",
   "execution_count": null,
   "id": "c1134370",
   "metadata": {},
   "outputs": [],
   "source": []
  },
  {
   "cell_type": "markdown",
   "id": "42ba7efc",
   "metadata": {},
   "source": [
    "### `1. Logistic Regression` "
   ]
  },
  {
   "cell_type": "code",
   "execution_count": 188,
   "id": "c8091ac2",
   "metadata": {},
   "outputs": [
    {
     "data": {
      "text/plain": [
       "LogisticRegression(C=0.1)"
      ]
     },
     "execution_count": 188,
     "metadata": {},
     "output_type": "execute_result"
    }
   ],
   "source": [
    "## Logistic Regression\n",
    "logit_clf = LogisticRegression(C=0.1)\n",
    "logit_clf.fit(x_train_final, y_train)  ## Train"
   ]
  },
  {
   "cell_type": "code",
   "execution_count": 191,
   "id": "dff4e541",
   "metadata": {},
   "outputs": [
    {
     "name": "stdout",
     "output_type": "stream",
     "text": [
      "Accuracy (Mean) scores using \"Logistic Regression\" -- 0.874\n"
     ]
    }
   ],
   "source": [
    "## Using cross validation for prediction and evaluation\n",
    "acc_scores_lgf = cross_val_score(estimator=logit_clf, X=x_train_final, y=y_train, cv=5, n_jobs=-1, scoring='accuracy')\n",
    "\n",
    "print(f'Accuracy (Mean) scores using \"Logistic Regression\" -- {acc_scores_forest.mean():.3f}', )\n",
    "## Prediction using cross validation\n",
    "y_pred_lgf = cross_val_predict(estimator=logit_clf, X=x_train_final, y=y_train, cv=5, n_jobs=-1, method='predict')"
   ]
  },
  {
   "cell_type": "markdown",
   "id": "1fd8da67",
   "metadata": {},
   "source": [
    "### `2. KNN`"
   ]
  },
  {
   "cell_type": "code",
   "execution_count": 192,
   "id": "a20ea541",
   "metadata": {},
   "outputs": [
    {
     "data": {
      "text/plain": [
       "KNeighborsClassifier()"
      ]
     },
     "execution_count": 192,
     "metadata": {},
     "output_type": "execute_result"
    }
   ],
   "source": [
    "## Using KNN\n",
    "knn_clf = KNeighborsClassifier(n_neighbors=5)\n",
    "knn_clf.fit(x_train_final, y_train)  ## Train"
   ]
  },
  {
   "cell_type": "code",
   "execution_count": 193,
   "id": "b21ce8f0",
   "metadata": {},
   "outputs": [
    {
     "name": "stdout",
     "output_type": "stream",
     "text": [
      "Accuracy (Mean) scores using \"KNN\" -- 0.878\n"
     ]
    }
   ],
   "source": [
    "## Using cross validation for prediction and evaluation\n",
    "acc_scores_knn = cross_val_score(estimator=knn_clf, X=x_train_final, y=y_train, cv=5, n_jobs=-1, scoring='accuracy')\n",
    "\n",
    "print(f'Accuracy (Mean) scores using \"KNN\" -- {acc_scores_knn.mean():.3f}', )\n",
    "\n",
    "## Prediction using cross validation\n",
    "y_pred_knn = cross_val_predict(estimator=knn_clf, X=x_train_final, y=y_train, cv=5, n_jobs=-1, method='predict')"
   ]
  },
  {
   "cell_type": "markdown",
   "id": "033f8f99",
   "metadata": {},
   "source": [
    "### `3. SVC`\n"
   ]
  },
  {
   "cell_type": "code",
   "execution_count": 56,
   "id": "3951b62e",
   "metadata": {},
   "outputs": [
    {
     "data": {
      "text/plain": [
       "SVC(C=0.1, kernel='linear', probability=True)"
      ]
     },
     "execution_count": 56,
     "metadata": {},
     "output_type": "execute_result"
    }
   ],
   "source": [
    "## Using SVMs\n",
    "svm_clf = SVC(kernel='linear', C=0.1, probability=True)\n",
    "svm_clf.fit(x_train_final, y_train)  ## Train"
   ]
  },
  {
   "cell_type": "code",
   "execution_count": 194,
   "id": "8973f1ca",
   "metadata": {},
   "outputs": [
    {
     "name": "stdout",
     "output_type": "stream",
     "text": [
      "Accuracy (Mean) scores using \"SVM\" -- 0.897\n"
     ]
    }
   ],
   "source": [
    "## Using cross validation for prediction and evaluation\n",
    "acc_scores_svm = cross_val_score(estimator=svm_clf, X=x_train_final, y=y_train, cv=5, n_jobs=-1, scoring='accuracy')\n",
    "\n",
    "print(f'Accuracy (Mean) scores using \"SVM\" -- {acc_scores_svm.mean():.3f}', )\n",
    "## Prediction using cross validation\n",
    "y_pred_svm = cross_val_predict(estimator=svm_clf, X=x_train_final, y=y_train, cv=5, n_jobs=-1, method='predict')"
   ]
  },
  {
   "cell_type": "markdown",
   "id": "5354a554",
   "metadata": {},
   "source": [
    "##  `4.Decison Trees`"
   ]
  },
  {
   "cell_type": "code",
   "execution_count": 59,
   "id": "f7480925",
   "metadata": {},
   "outputs": [
    {
     "data": {
      "text/plain": [
       "DecisionTreeClassifier(max_depth=2)"
      ]
     },
     "execution_count": 59,
     "metadata": {},
     "output_type": "execute_result"
    }
   ],
   "source": [
    "## Decison Trees\n",
    "tree_clf = DecisionTreeClassifier(criterion='gini', max_depth=2)\n",
    "tree_clf.fit(x_train_final, y_train)  ## Train"
   ]
  },
  {
   "cell_type": "code",
   "execution_count": 186,
   "id": "285f847b",
   "metadata": {},
   "outputs": [
    {
     "name": "stdout",
     "output_type": "stream",
     "text": [
      "Accuracy (Mean) scores using \"Decision Trees\" -- 0.859\n"
     ]
    }
   ],
   "source": [
    "## Using cross validation for prediction and evaluation\n",
    "acc_scores_tree = cross_val_score(estimator=tree_clf, X=x_train_final, y=y_train, cv=5, n_jobs=-1, scoring='accuracy')\n",
    "\n",
    "print(f'Accuracy (Mean) scores using \"Decision Trees\" -- {acc_scores_tree.mean():.3f}', )\n",
    "all_acc.append(acc)\n",
    "## Prediction using cross validation\n",
    "y_pred_tree = cross_val_predict(estimator=tree_clf, X=x_train_final, y=y_train, cv=5, n_jobs=-1, method='predict')"
   ]
  },
  {
   "cell_type": "code",
   "execution_count": null,
   "id": "3a1b5bcc",
   "metadata": {},
   "outputs": [],
   "source": []
  },
  {
   "cell_type": "markdown",
   "id": "fbd67067",
   "metadata": {},
   "source": [
    "## `RANDOM FOREST`"
   ]
  },
  {
   "cell_type": "code",
   "execution_count": 196,
   "id": "215a3ced",
   "metadata": {},
   "outputs": [
    {
     "data": {
      "text/plain": [
       "RandomForestClassifier(max_depth=3, max_features=1.0, max_leaf_nodes=25,\n",
       "                       max_samples=0.8, n_estimators=150)"
      ]
     },
     "execution_count": 196,
     "metadata": {},
     "output_type": "execute_result"
    }
   ],
   "source": [
    "forest_clf = RandomForestClassifier(n_estimators=150, max_depth=3, max_leaf_nodes=25, \n",
    "                                    criterion='gini', max_features=1.0, max_samples=0.8)\n",
    "forest_clf.fit(x_train_final, y_train)  ## train"
   ]
  },
  {
   "cell_type": "code",
   "execution_count": 197,
   "id": "9a59d283",
   "metadata": {},
   "outputs": [
    {
     "name": "stdout",
     "output_type": "stream",
     "text": [
      "Accuracy (Mean) scores using \"RandomForest\" -- 0.870\n"
     ]
    }
   ],
   "source": [
    "## Using cross validation for prediction and evaluation\n",
    "\n",
    "acc_scores_forest = cross_val_score(estimator=forest_clf, X=x_train_final, y=y_train, cv=5, n_jobs=-1, scoring='accuracy')\n",
    "\n",
    "print(f'Accuracy (Mean) scores using \"RandomForest\" -- {acc_scores_forest.mean():.3f}', )\n",
    "\n",
    "\n",
    "## Prediction using cross validation\n",
    "y_pred_forest = cross_val_predict(estimator=forest_clf, X=x_train_final, y=y_train, cv=5, n_jobs=-1, method='predict')"
   ]
  },
  {
   "cell_type": "markdown",
   "id": "d0af41e5",
   "metadata": {},
   "source": [
    "## `FEATURES IMPORTANCE USING RANDOM FOREST`"
   ]
  },
  {
   "cell_type": "code",
   "execution_count": 198,
   "id": "396e4584",
   "metadata": {},
   "outputs": [
    {
     "data": {
      "text/plain": [
       "{'AGE': 0.10848967708094975,\n",
       " 'SMOKING': 0.00851840919610817,\n",
       " 'YELLOW_FINGERS': 0.09115516204184065,\n",
       " 'ANXIETY': 0.020652431574594916,\n",
       " 'PEER_PRESSURE': 0.04717553038374742,\n",
       " 'CHRONIC DISEASE': 0.023949033333413878,\n",
       " 'FATIGUE ': 0.1183562053263772,\n",
       " 'ALLERGY ': 0.1964559513568612,\n",
       " 'WHEEZING': 0.04867485493929754,\n",
       " 'ALCOHOL CONSUMING': 0.10105091120885838,\n",
       " 'COUGHING': 0.07652307379438239,\n",
       " 'SHORTNESS OF BREATH': 0.01161463164661744,\n",
       " 'SWALLOWING DIFFICULTY': 0.13327087481899091,\n",
       " 'CHEST PAIN': 0.006914825663476973,\n",
       " 'FEAMLE': 0.003911773758323098,\n",
       " 'MALE': 0.0032866538761601735}"
      ]
     },
     "execution_count": 198,
     "metadata": {},
     "output_type": "execute_result"
    }
   ],
   "source": [
    "d=dict(zip(num_col+[\"FEAMLE\",\"MALE\"], forest_clf.feature_importances_))\n",
    "d"
   ]
  },
  {
   "cell_type": "code",
   "execution_count": 199,
   "id": "902ba4c0",
   "metadata": {},
   "outputs": [
    {
     "data": {
      "text/plain": [
       "16"
      ]
     },
     "execution_count": 199,
     "metadata": {},
     "output_type": "execute_result"
    }
   ],
   "source": [
    "len(forest_clf.feature_importances_)"
   ]
  },
  {
   "cell_type": "code",
   "execution_count": 200,
   "id": "57b8c038",
   "metadata": {},
   "outputs": [
    {
     "data": {
      "image/png": "[encoded data removed]",
      "text/plain": [
       "<Figure size 864x576 with 1 Axes>"
      ]
     },
     "metadata": {
      "needs_background": "light"
     },
     "output_type": "display_data"
    }
   ],
   "source": [
    "## to DF and then plotting\n",
    "df_feat_import_forest = pd.DataFrame({'Features': d.keys(), 'Scores': d.values()})\n",
    "df_feat_import_forest = df_feat_import_forest.sort_values(by='Scores', ascending=False)\n",
    "\n",
    "## plotting\n",
    "plt.figure(figsize=(12, 8))\n",
    "plt.barh(y=df_feat_import_forest['Features'], width=df_feat_import_forest['Scores'])\n",
    "plt.title('Featutre Importance for RandomForest Model', fontsize=16, c='k')\n",
    "plt.xlabel('Scores', fontsize=16, c='k')\n",
    "plt.ylabel('Features', fontsize=16, c='k')\n",
    "plt.xticks(c='k', fontsize=12)\n",
    "plt.yticks(c='k', fontsize=12)\n",
    "plt.grid('on')\n",
    "plt.show()"
   ]
  },
  {
   "cell_type": "markdown",
   "id": "aa19017a",
   "metadata": {},
   "source": [
    "### `Voting Classifiers`"
   ]
  },
  {
   "cell_type": "code",
   "execution_count": 201,
   "id": "23e20f44",
   "metadata": {},
   "outputs": [
    {
     "data": {
      "text/plain": [
       "VotingClassifier(estimators=[('logit', LogisticRegression(C=0.1)),\n",
       "                             ('knn', KNeighborsClassifier()),\n",
       "                             ('svm',\n",
       "                              SVC(C=0.1, kernel='linear', probability=True)),\n",
       "                             ('tree', DecisionTreeClassifier(max_depth=2)),\n",
       "                             ('rf',\n",
       "                              RandomForestClassifier(max_depth=3,\n",
       "                                                     max_features=1.0,\n",
       "                                                     max_leaf_nodes=25,\n",
       "                                                     max_samples=0.8,\n",
       "                                                     n_estimators=150))],\n",
       "                 voting='soft')"
      ]
     },
     "execution_count": 201,
     "metadata": {},
     "output_type": "execute_result"
    }
   ],
   "source": [
    "## Voting the above 4 models, firstly --------> try tuning the above models before voting\n",
    "voting_clf = VotingClassifier(estimators=\n",
    "                                    [\n",
    "                                        ('logit', logit_clf),\n",
    "                                        ('knn', knn_clf),\n",
    "                                        ('svm', svm_clf),\n",
    "                                        ('tree', tree_clf),\n",
    "                                        ('rf',forest_clf)\n",
    "                                    ], \n",
    "                              voting='soft'      ## --> Try using (hard), take your time playing with code.\n",
    "                            )\n",
    "## deal with the (voting_clf) as an ordinary model                \n",
    "voting_clf.fit(x_train_final, y_train)  ## Train"
   ]
  },
  {
   "cell_type": "code",
   "execution_count": 202,
   "id": "f76ac986",
   "metadata": {},
   "outputs": [
    {
     "name": "stdout",
     "output_type": "stream",
     "text": [
      "Accuracy (Mean) scores using \"Voting Classifier\" -- 0.889\n"
     ]
    }
   ],
   "source": [
    "## Using cross validation for prediction and evaluation\n",
    "acc_scores_voting = cross_val_score(estimator=voting_clf, X=x_train_final, y=y_train, cv=5, n_jobs=-1, scoring='accuracy')\n",
    "print(f'Accuracy (Mean) scores using \"Voting Classifier\" -- {acc_scores_voting.mean():.3f}', )\n",
    "\n",
    "## Prediction using cross validation\n",
    "y_pred_voting = cross_val_predict(estimator=voting_clf, X=x_train_final, y=y_train, cv=5, n_jobs=-1, method='predict')"
   ]
  },
  {
   "cell_type": "markdown",
   "id": "0a9bee94",
   "metadata": {},
   "source": [
    "### `Adaboost`"
   ]
  },
  {
   "cell_type": "code",
   "execution_count": 203,
   "id": "a1fd0ed9",
   "metadata": {},
   "outputs": [
    {
     "data": {
      "text/plain": [
       "AdaBoostClassifier(base_estimator=DecisionTreeClassifier(max_depth=3),\n",
       "                   learning_rate=0.5, n_estimators=100)"
      ]
     },
     "execution_count": 203,
     "metadata": {},
     "output_type": "execute_result"
    }
   ],
   "source": [
    "## using adaboost for DT as the base estimator\n",
    "adaboost_clf = AdaBoostClassifier(\n",
    "                                    base_estimator=DecisionTreeClassifier(criterion='gini', max_depth=3), \n",
    "                                    n_estimators=100, \n",
    "                                    algorithm='SAMME.R', \n",
    "                                    learning_rate=0.5\n",
    "                                  )\n",
    "adaboost_clf.fit(x_train_final, y_train)  ## train"
   ]
  },
  {
   "cell_type": "code",
   "execution_count": 204,
   "id": "bc589677",
   "metadata": {},
   "outputs": [
    {
     "name": "stdout",
     "output_type": "stream",
     "text": [
      "Accuracy (Mean) scores using \"Adaboost\" -- 0.889\n"
     ]
    }
   ],
   "source": [
    "## Using cross validation for prediction and evaluation\n",
    "acc_scores_adaboost = cross_val_score(estimator=adaboost_clf, X=x_train_final, y=y_train, cv=5, n_jobs=-1, scoring='accuracy')\n",
    "print(f'Accuracy (Mean) scores using \"Adaboost\" -- {acc_scores_adaboost.mean():.3f}', )\n",
    "\n",
    "## Prediction using cross validation\n",
    "y_pred_adaboost = cross_val_predict(estimator=adaboost_clf, X=x_train_final, y=y_train, cv=5, n_jobs=-1, method='predict')"
   ]
  },
  {
   "cell_type": "code",
   "execution_count": null,
   "id": "c761b31a",
   "metadata": {},
   "outputs": [],
   "source": []
  },
  {
   "cell_type": "code",
   "execution_count": null,
   "id": "4cde2e87",
   "metadata": {},
   "outputs": [],
   "source": []
  },
  {
   "cell_type": "markdown",
   "id": "e5717d56",
   "metadata": {},
   "source": [
    "# 'Accuracy and Recall score for all'"
   ]
  },
  {
   "cell_type": "code",
   "execution_count": 205,
   "id": "03c491ed",
   "metadata": {},
   "outputs": [
    {
     "name": "stdout",
     "output_type": "stream",
     "text": [
      "LogisticRegression ------- Accuracy score is : 0.8969\n",
      "KNeighborsClassifier ------- Accuracy score is : 0.8779\n",
      "SVC ------- Accuracy score is : 0.8969\n",
      "DecisionTreeClassifier ------- Accuracy score is : 0.8588\n",
      "RandomForestClassifier ------- Accuracy score is : 0.8779\n",
      "AdaBoostClassifier ------- Accuracy score is : 0.8817\n",
      "VotingClassifier ------- Accuracy score is : 0.8779\n"
     ]
    }
   ],
   "source": [
    "## Getting all together \n",
    "models_outs = {logit_clf:y_pred_lgf, \n",
    "               knn_clf:y_pred_knn, \n",
    "               svm_clf:y_pred_svm, \n",
    "               tree_clf:y_pred_tree, \n",
    "               forest_clf:y_pred_forest,\n",
    "               adaboost_clf:y_pred_adaboost,\n",
    "               voting_clf:y_pred_voting\n",
    "              }\n",
    "\n",
    "for idx, clf in enumerate(models_outs.keys()):\n",
    "    y_pred_each_clf = [*models_outs.values()][idx]   ## prediction for each model\n",
    "    acc_score = accuracy_score(y_train, y_pred_each_clf)   ## accuracy\n",
    "    print(clf.__class__.__name__, '-------', f'Accuracy score is : {acc_score:.4f}')"
   ]
  },
  {
   "cell_type": "code",
   "execution_count": 206,
   "id": "2a0b85d0",
   "metadata": {},
   "outputs": [
    {
     "name": "stdout",
     "output_type": "stream",
     "text": [
      "LogisticRegression ------- Recall score is : 0.9781\n",
      "KNeighborsClassifier ------- Recall score is : 0.9518\n",
      "SVC ------- Recall score is : 0.9430\n",
      "DecisionTreeClassifier ------- Recall score is : 0.9737\n",
      "RandomForestClassifier ------- Recall score is : 0.9825\n",
      "AdaBoostClassifier ------- Recall score is : 0.9518\n",
      "VotingClassifier ------- Recall score is : 0.9605\n"
     ]
    }
   ],
   "source": [
    "for idx, clf in enumerate(models_outs.keys()):\n",
    "    y_pred_each_clf = [*models_outs.values()][idx]   ## prediction for each model\n",
    "    recall = recall_score(y_train, y_pred_each_clf)   ## accuracy\n",
    "    print(clf.__class__.__name__, '-------', f'Recall score is : {recall:.4f}')"
   ]
  },
  {
   "cell_type": "code",
   "execution_count": 231,
   "id": "c1a21eb4",
   "metadata": {},
   "outputs": [
    {
     "name": "stdout",
     "output_type": "stream",
     "text": [
      "confmat_sgd =>\n",
      " [[  6  28]\n",
      " [  4 224]]\n",
      "------------------------------------------------------------\n"
     ]
    },
    {
     "data": {
      "image/png": "[encoded data removed]",
      "text/plain": [
       "<Figure size 720x432 with 1 Axes>"
      ]
     },
     "metadata": {
      "needs_background": "light"
     },
     "output_type": "display_data"
    }
   ],
   "source": [
    "## confusion Matrix\n",
    "confmat_rf = confusion_matrix(y_train, y_pred_forest)\n",
    "print('confmat_sgd =>\\n', confmat_sgd)\n",
    "\n",
    "print('--'*30)\n",
    "\n",
    "\n",
    "## Plotting as a HeatMap\n",
    "plt.figure(figsize=(10, 6))\n",
    "sns.heatmap(confmat_sgd, fmt='g', annot=True, cbar=False, vmin=0, cmap='Blues')\n",
    "plt.xticks(ticks=np.arange(2) + 0.5, labels=['False', 'True'])   ## to only handle the names in proper way\n",
    "plt.yticks(ticks=np.arange(2) + 0.5, labels=['False', 'True'])   ## to only handle the names in proper way\n",
    "plt.xlabel('Predicted', fontsize=14, color='b')\n",
    "plt.ylabel('Actual', fontsize=14, color='b')\n",
    "plt.title('Confusion Matrix', fontsize=14, color='b')\n",
    "plt.show()"
   ]
  },
  {
   "cell_type": "code",
   "execution_count": 232,
   "id": "a1d85e65",
   "metadata": {},
   "outputs": [
    {
     "name": "stdout",
     "output_type": "stream",
     "text": [
      "Precison Score using RF => 0.8888888888888888\n",
      "------------------------------------------------------------\n",
      "Recall Score using RF => 0.9824561403508771\n",
      "------------------------------------------------------------\n",
      "Classifcation Report using RF => \n",
      "               precision    recall  f1-score   support\n",
      "\n",
      "       False       0.60      0.18      0.27        34\n",
      "        True       0.89      0.98      0.93       228\n",
      "\n",
      "    accuracy                           0.88       262\n",
      "   macro avg       0.74      0.58      0.60       262\n",
      "weighted avg       0.85      0.88      0.85       262\n",
      "\n"
     ]
    }
   ],
   "source": [
    "## Precision and Recall score\n",
    "precison_score_rf = precision_score(y_train, y_pred_forest)\n",
    "print('Precison Score using RF =>', precison_score_sgd)\n",
    "\n",
    "print('---'*20)\n",
    "\n",
    "recall_score_rf = recall_score(y_train, y_pred_forest)\n",
    "print('Recall Score using RF =>', recall_score_sgd)\n",
    "\n",
    "print('---'*20)\n",
    "\n",
    "class_repo_rf = classification_report(y_train, y_pred_forest)\n",
    "print('Classifcation Report using RF => \\n', class_repo_sgd)"
   ]
  },
  {
   "cell_type": "code",
   "execution_count": 211,
   "id": "b8e305ec",
   "metadata": {},
   "outputs": [
    {
     "data": {
      "text/plain": [
       "Index(['GENDER', 'AGE', 'SMOKING', 'YELLOW_FINGERS', 'ANXIETY',\n",
       "       'PEER_PRESSURE', 'CHRONIC DISEASE', 'FATIGUE ', 'ALLERGY ', 'WHEEZING',\n",
       "       'ALCOHOL CONSUMING', 'COUGHING', 'SHORTNESS OF BREATH',\n",
       "       'SWALLOWING DIFFICULTY', 'CHEST PAIN'],\n",
       "      dtype='object')"
      ]
     },
     "execution_count": 211,
     "metadata": {},
     "output_type": "execute_result"
    }
   ],
   "source": [
    "x_train.columns"
   ]
  },
  {
   "cell_type": "markdown",
   "id": "68f37777",
   "metadata": {},
   "source": [
    "# `random test`"
   ]
  },
  {
   "cell_type": "code",
   "execution_count": 234,
   "id": "4f886f9d",
   "metadata": {},
   "outputs": [],
   "source": [
    "r_test=total_pipline.transform(pd.DataFrame([['M', 22, 1, 1, 2, 2, 1, 2, 1, 1, 1, 1, 2, 1, 2]],columns=x_train.columns)).toarray()"
   ]
  },
  {
   "cell_type": "code",
   "execution_count": 235,
   "id": "559bf3c9",
   "metadata": {},
   "outputs": [
    {
     "data": {
      "text/plain": [
       "array([False])"
      ]
     },
     "execution_count": 235,
     "metadata": {},
     "output_type": "execute_result"
    }
   ],
   "source": [
    "forest_clf.predict(r_test)"
   ]
  },
  {
   "cell_type": "code",
   "execution_count": null,
   "id": "27a32a70",
   "metadata": {},
   "outputs": [],
   "source": []
  }
 ],
 "metadata": {
  "kernelspec": {
   "display_name": "Python 3",
   "language": "python",
   "name": "python3"
  },
  "language_info": {
   "codemirror_mode": {
    "name": "ipython",
    "version": 3
   },
   "file_extension": ".py",
   "mimetype": "text/x-python",
   "name": "python",
   "nbconvert_exporter": "python",
   "pygments_lexer": "ipython3",
   "version": "3.8.8"
  }
 },
 "nbformat": 4,
 "nbformat_minor": 5
}
